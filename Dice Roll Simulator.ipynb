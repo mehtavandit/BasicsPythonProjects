{
 "cells": [
  {
   "cell_type": "code",
   "execution_count": 4,
   "metadata": {},
   "outputs": [],
   "source": [
    "import random   #Importing module"
   ]
  },
  {
   "cell_type": "code",
   "execution_count": 5,
   "metadata": {},
   "outputs": [],
   "source": [
    "min_value = 1   #Initializing variables\n",
    "max_value = 6\n",
    "roll = \"yes\""
   ]
  },
  {
   "cell_type": "code",
   "execution_count": null,
   "metadata": {},
   "outputs": [
    {
     "name": "stdout",
     "output_type": "stream",
     "text": [
      "Rolling the dice\n",
      "The values are\n",
      "6\n",
      "2\n",
      "Want to roll againyes\n",
      "Rolling the dice\n",
      "The values are\n",
      "2\n",
      "5\n"
     ]
    }
   ],
   "source": [
    "while roll == \"yes\":    #loop\n",
    "    print(\"Rolling the dice\")\n",
    "    print(\"The values are\")\n",
    "    print(random.randint(min_value, max_value))\n",
    "    print(random.randint(min_value, max_value))\n",
    "    roll = input(\"Want to roll again\")   #if yes then dice will roll again"
   ]
  },
  {
   "cell_type": "code",
   "execution_count": null,
   "metadata": {},
   "outputs": [],
   "source": []
  }
 ],
 "metadata": {
  "kernelspec": {
   "display_name": "Python 3",
   "language": "python",
   "name": "python3"
  },
  "language_info": {
   "codemirror_mode": {
    "name": "ipython",
    "version": 3
   },
   "file_extension": ".py",
   "mimetype": "text/x-python",
   "name": "python",
   "nbconvert_exporter": "python",
   "pygments_lexer": "ipython3",
   "version": "3.8.5"
  }
 },
 "nbformat": 4,
 "nbformat_minor": 4
}
